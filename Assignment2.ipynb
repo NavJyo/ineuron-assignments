{
  "nbformat": 4,
  "nbformat_minor": 0,
  "metadata": {
    "colab": {
      "name": "Untitled2.ipynb",
      "provenance": []
    },
    "kernelspec": {
      "name": "python3",
      "display_name": "Python 3"
    },
    "language_info": {
      "name": "python"
    }
  },
  "cells": [
    {
      "cell_type": "markdown",
      "source": [
        "1. What exactly is []? \n",
        "[] indicates an empty list or an array "
      ],
      "metadata": {
        "id": "sGjqO52T_-x_"
      }
    },
    {
      "cell_type": "markdown",
      "source": [
        "2. In a list of values stored in a variable called spam, how would you assign the value &#39;hello&#39; as the\n",
        "third value? (Assume [2, 4, 6, 8, 10] are in spam.)"
      ],
      "metadata": {
        "id": "W0nAI_XWAG5S"
      }
    },
    {
      "cell_type": "markdown",
      "source": [
        "spam[2]= 'hello'"
      ],
      "metadata": {
        "id": "7X6e_NG3AL_3"
      }
    },
    {
      "cell_type": "markdown",
      "source": [
        "3. What is the value of spam[int(int('3' * 2) / 11)]? \n",
        "The answer is 8."
      ],
      "metadata": {
        "id": "fW6VAMFQAM1D"
      }
    },
    {
      "cell_type": "markdown",
      "source": [
        "4. What is the value of spam[-1]?\n",
        "\n",
        "> The answer is 10 \n",
        "\n",
        "\n",
        "\n"
      ],
      "metadata": {
        "id": "2jLL5kVkASUC"
      }
    },
    {
      "cell_type": "markdown",
      "source": [
        "5. What is the value of spam[:2]? \n",
        "The answer is [2,4] "
      ],
      "metadata": {
        "id": "I70ALsQMAXML"
      }
    },
    {
      "cell_type": "markdown",
      "source": [
        "Let&#39;s pretend bacon has the list [3.14, &#39;cat,&#39; 11, &#39;cat,&#39; True] for the next three questions."
      ],
      "metadata": {
        "id": "ZTyYxNBEAq0T"
      }
    },
    {
      "cell_type": "markdown",
      "source": [
        "6. What is the value of bacon.index(&#39;cat&#39;)? \n",
        "The answer is 1 "
      ],
      "metadata": {
        "id": "0AM0kdMfAu6l"
      }
    },
    {
      "cell_type": "code",
      "source": [
        "bacon = [3.14, 'cat',  11, 'cat',  True] \n",
        "bacon.append(99)\n",
        "bacon.remove('cat')\n",
        "bacon"
      ],
      "metadata": {
        "colab": {
          "base_uri": "https://localhost:8080/"
        },
        "id": "BhCSQdEJA3cq",
        "outputId": "24021f9c-e9da-4520-867b-1602d102d6c1"
      },
      "execution_count": 7,
      "outputs": [
        {
          "output_type": "execute_result",
          "data": {
            "text/plain": [
              "[3.14, 11, 'cat', True, 99]"
            ]
          },
          "metadata": {},
          "execution_count": 7
        }
      ]
    },
    {
      "cell_type": "markdown",
      "source": [
        "7. How does bacon.append(99) change the look of the list value in bacon?  \n",
        "The length of the list bacon increaes by 1. 99 gets appended to the end of the list. "
      ],
      "metadata": {
        "id": "Wb96GXQdBUH9"
      }
    },
    {
      "cell_type": "markdown",
      "source": [
        "8. How does bacon.remove('cat') change the look of the list in bacon? \n",
        "\n",
        "The length of the list reduces by 1. Also, the first 'cat' gets removed out of the list"
      ],
      "metadata": {
        "id": "UF4NOLfLBhMV"
      }
    },
    {
      "cell_type": "markdown",
      "source": [
        "\n",
        "9. What are the list concatenation and list replication operators? \n",
        "In python list concatenation operator is + while list replication is - \n",
        "\n",
        "\n",
        "\n"
      ],
      "metadata": {
        "id": "Co5kOLwmB0cC"
      }
    },
    {
      "cell_type": "markdown",
      "source": [
        "10. What is difference between the list methods append() and insert()? \n",
        "Insert() allows one to add an element at a specific index while append() allows one to add an element at the end of the list only. "
      ],
      "metadata": {
        "id": "xAuiv5ZEEnw6"
      }
    },
    {
      "cell_type": "markdown",
      "source": [
        "11. What are the two methods for removing items from a list? \n",
        "The two methods of removing items from a list is by using function .remove() and .pop(). "
      ],
      "metadata": {
        "id": "p_SftLMCFjEP"
      }
    },
    {
      "cell_type": "markdown",
      "source": [
        "12.  What's the difference between tuples and lists? \n",
        "Tuples are immutable while lists are mutable.  The elements in Tuples are enclosed in () while elements of list in [] "
      ],
      "metadata": {
        "id": "5bu_O-QIF5aT"
      }
    },
    {
      "cell_type": "markdown",
      "source": [
        "13. How do you type a tuple value that only contains the integer 42?\n",
        "(42,) (The trailing comma is mandatory.) "
      ],
      "metadata": {
        "id": "RO7QXkIJ6FjY"
      }
    },
    {
      "cell_type": "markdown",
      "source": [
        "14.  How do you get a list value's tuple form? How do you get a tuple value's list form? Using function tuple() and list() respectively. "
      ],
      "metadata": {
        "id": "Z6XNZiTP7GQi"
      }
    },
    {
      "cell_type": "markdown",
      "source": [
        "15. Variables that \"contain\" list values are not necessarily lists themselves. Instead, what do they contain?  They contain references to list values. "
      ],
      "metadata": {
        "id": "0TkdqF_X7Tc_"
      }
    },
    {
      "cell_type": "markdown",
      "source": [
        "16. How do you distinguish between copy.copy() and copy.deepcopy()?  \n",
        "The copy.copy() function will do a shallow copy of a list, while the copy.deepcopy() function will do a deep copy of a list. That is, only copy.deepcopy() will duplicate any lists inside the list. "
      ],
      "metadata": {
        "id": "5LlJBX9D7qsA"
      }
    },
    {
      "cell_type": "markdown",
      "source": [
        "17.  Describe how list values and string values are identical. \n",
        "Both the list values and string values are sequences.  But string values are immutable while list values are mutable. List can contain values are different data types while string can store only aplhanumeric values. "
      ],
      "metadata": {
        "id": "mkTHBWY37_bS"
      }
    }
  ]
}
